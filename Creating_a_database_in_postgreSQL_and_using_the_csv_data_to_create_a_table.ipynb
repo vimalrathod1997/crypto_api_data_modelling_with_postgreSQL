{
 "cells": [
  {
   "cell_type": "markdown",
   "id": "76aae929",
   "metadata": {},
   "source": [
    "Importing psycopg2 library to create connection with PostgreSQL Database and execute SQL queries "
   ]
  },
  {
   "cell_type": "code",
   "execution_count": 2,
   "id": "97120180",
   "metadata": {},
   "outputs": [],
   "source": [
    "import psycopg2 as psy"
   ]
  },
  {
   "cell_type": "markdown",
   "id": "79e36116",
   "metadata": {},
   "source": [
    "The below block of code connects to our PostgreSQL database and creates a database session.\n",
    "It also creates a cursor that would be used to execute SQL queries on our connected database"
   ]
  },
  {
   "cell_type": "code",
   "execution_count": 8,
   "id": "d327864a",
   "metadata": {},
   "outputs": [],
   "source": [
    "conn=psy.connect(\"host=127.0.0.1 dbname=db_crypto user=postgres password=crypto123\")\n",
    "conn.set_session(autocommit=True)\n",
    "cur=conn.cursor()"
   ]
  },
  {
   "cell_type": "markdown",
   "id": "f816f50b",
   "metadata": {},
   "source": [
    "The below block is for Storing the SQL query to create a Table called Crypto_All_API_Data_Table in a variable Create_Crypto_All_API_Data_Table"
   ]
  },
  {
   "cell_type": "code",
   "execution_count": 9,
   "id": "94ce6b6a",
   "metadata": {},
   "outputs": [],
   "source": [
    "Create_Crypto_All_API_Data_Table='''\n",
    "Create Table Crypto_All_API_Data_Table(\n",
    "\tSerial_number varchar,\n",
    "\tcrypto_currency_id varchar ,\n",
    "\tcrypto_currency_name varchar ,\n",
    "\tcrypto_currency_symbol varchar ,\n",
    "\tcrypto_currency_slug varchar ,\n",
    "\tcrypto_currency_number_of_market_pairs integer,\n",
    "\tcrypto_currency_added_on_date date,\n",
    "\tcrypto_currency_tags varchar,\n",
    "\tcrypto_currency_maximum_supply_in_the_lifetime float,\n",
    "\tcrypto_currency_current_circulating_supply float,\n",
    "\tcrypto_currency_total_supply_right_now float,\n",
    "\tcrypto_currency_platform varchar,\n",
    "\tcrypto_currency_cmc_rank integer,\n",
    "\tcrypto_currency_self_reported_circulating_supply float,\n",
    "\tcrypto_currency_self_reported_market_capital float,\n",
    "\tcrypto_currency_last_updated_date date,\n",
    "\tcrypto_currency_value_in_US_dollars float,\n",
    "\tcrypto_currency_volume_in_the_past_24_hours float,\n",
    "\tcrypto_currency_volume_change_in_the_past_24_hours decimal(6,2),\n",
    "\tcrypto_currency_percentage_change_in_last_1_hour decimal(6,2),\n",
    "\tcrypto_currency_percentage_change_in_last_24_hour decimal(6,2),\n",
    "\tcrypto_currency_percentage_change_in_past_7_days decimal(6,2),\n",
    "\tcrypto_currency_percentage_change_in_past_30_days decimal(6,2),\n",
    "\tcrypto_currency_percentage_change_in_past_60_days decimal(6,2),\n",
    "\tcrypto_currency_percentage_change_in_past_90_days decimal(6,2),\n",
    "\tcrypto_currency_market_capital float,\n",
    "\tcrypto_currency_market_capital_dominance float,\n",
    "\tcrypto_currency_fully_diluted_market_capital float,\n",
    "\tcrypto_currency_last_updated date,\n",
    "\tcrypto_currency_platform_id varchar,\n",
    "\tcrypto_currency_platform_name varchar,\n",
    "\tcrypto_currency_platform_symbol varchar,\n",
    "\tcrypto_currency_platform_slug varchar,\n",
    "\tcrypto_currencyplatform_token_address varchar,\n",
    "\tcrypto_currency_timestamp_for_job_run date\t\n",
    ");\n",
    "'''"
   ]
  },
  {
   "cell_type": "markdown",
   "id": "cb012691",
   "metadata": {},
   "source": [
    "using cursor object cur to execute the SQL query in Create_Crypto_All_API_Data_Table"
   ]
  },
  {
   "cell_type": "code",
   "execution_count": 10,
   "id": "99084ad4",
   "metadata": {},
   "outputs": [
    {
     "ename": "DuplicateTable",
     "evalue": "relation \"crypto_all_api_data_table\" already exists\n",
     "output_type": "error",
     "traceback": [
      "\u001b[1;31m---------------------------------------------------------------------------\u001b[0m",
      "\u001b[1;31mDuplicateTable\u001b[0m                            Traceback (most recent call last)",
      "Input \u001b[1;32mIn [10]\u001b[0m, in \u001b[0;36m<cell line: 1>\u001b[1;34m()\u001b[0m\n\u001b[1;32m----> 1\u001b[0m \u001b[43mcur\u001b[49m\u001b[38;5;241;43m.\u001b[39;49m\u001b[43mexecute\u001b[49m\u001b[43m(\u001b[49m\u001b[43mCreate_Crypto_All_API_Data_Table\u001b[49m\u001b[43m)\u001b[49m\n",
      "\u001b[1;31mDuplicateTable\u001b[0m: relation \"crypto_all_api_data_table\" already exists\n"
     ]
    }
   ],
   "source": [
    "cur.execute(Create_Crypto_All_API_Data_Table)"
   ]
  },
  {
   "cell_type": "markdown",
   "id": "697eb4ae",
   "metadata": {},
   "source": [
    "The below block is for Storing the SQL query to create a Table called Crypto_Analytics_Table in a variable Create_Crypto_Analytics_Table"
   ]
  },
  {
   "cell_type": "code",
   "execution_count": 11,
   "id": "1f81b2e4",
   "metadata": {},
   "outputs": [],
   "source": [
    "Create_Crypto_Analytics_Table='''\n",
    "Create Table Crypto_Analytics_Table(\n",
    "\tcrypto_currency_id varchar ,\n",
    "\tcrypto_currency_name varchar ,\n",
    "\tcrypto_currency_symbol varchar ,\n",
    "\tcrypto_currency_slug varchar ,\n",
    "\tcrypto_currency_number_of_market_pairs integer,\n",
    "\tcrypto_currency_added_on_date date,\n",
    "\tcrypto_currency_tags varchar NOT NULL,\n",
    "\tcrypto_currency_maximum_supply_in_the_lifetime float,\n",
    "\tcrypto_currency_current_circulating_supply float,\n",
    "\tcrypto_currency_total_supply_right_now float,\n",
    "\tcrypto_currency_cmc_rank integer,\n",
    "\tcrypto_currency_self_reported_circulating_supply float,\n",
    "\tcrypto_currency_self_reported_market_capital float,\n",
    "\tcrypto_currency_last_updated_date date,\n",
    "\tcrypto_currency_value_in_US_dollars float,\n",
    "\tcrypto_currency_volume_in_the_past_24_hours float,\n",
    "\tcrypto_currency_volume_change_in_the_past_24_hours decimal(6,2),\n",
    "\tcrypto_currency_percentage_change_in_last_1_hour decimal(6,2),\n",
    "\tcrypto_currency_percentage_change_in_last_24_hour decimal(6,2),\n",
    "\tcrypto_currency_percentage_change_in_past_7_days decimal(6,2),\n",
    "\tcrypto_currency_percentage_change_in_past_30_days decimal(6,2),\n",
    "\tcrypto_currency_percentage_change_in_past_60_days decimal(6,2),\n",
    "\tcrypto_currency_percentage_change_in_past_90_days decimal(6,2),\n",
    "\tcrypto_currency_market_capital float,\n",
    "\tcrypto_currency_market_capital_dominance float,\n",
    "\tcrypto_currency_fully_diluted_market_capital float,\n",
    "\tcrypto_currency_last_updated date,\n",
    "\tcrypto_currency_timestamp_for_job_run date\t\n",
    ");\n",
    "'''"
   ]
  },
  {
   "cell_type": "markdown",
   "id": "39cc457b",
   "metadata": {},
   "source": [
    "The below block is for Storing the SQL query to create a Table called Crypto_Bitcoin_Table in a variable Create_Crypto_Bitcoin_Table"
   ]
  },
  {
   "cell_type": "code",
   "execution_count": null,
   "id": "ce0ffc0d",
   "metadata": {},
   "outputs": [],
   "source": [
    "Create_Crypto_Bitcoin_Table='''\n",
    "Create Table Crypto_Bitcoin_Table(\n",
    "\tSerial_number varchar,\n",
    "\tcrypto_currency_id varchar ,\n",
    "\tcrypto_currency_name varchar ,\n",
    "\tcrypto_currency_symbol varchar ,\n",
    "\tcrypto_currency_slug varchar ,\n",
    "\tcrypto_currency_number_of_market_pairs integer,\n",
    "\tcrypto_currency_added_on_date date,\n",
    "\tcrypto_currency_tags varchar,\n",
    "\tcrypto_currency_maximum_supply_in_the_lifetime float,\n",
    "\tcrypto_currency_current_circulating_supply float,\n",
    "\tcrypto_currency_total_supply_right_now float,\n",
    "\tcrypto_currency_platform varchar,\n",
    "\tcrypto_currency_cmc_rank integer,\n",
    "\tcrypto_currency_self_reported_circulating_supply float,\n",
    "\tcrypto_currency_self_reported_market_capital float,\n",
    "\tcrypto_currency_last_updated_date date,\n",
    "\tcrypto_currency_value_in_US_dollars float,\n",
    "\tcrypto_currency_volume_in_the_past_24_hours float,\n",
    "\tcrypto_currency_volume_change_in_the_past_24_hours decimal(6,2),\n",
    "\tcrypto_currency_percentage_change_in_last_1_hour decimal(6,2),\n",
    "\tcrypto_currency_percentage_change_in_last_24_hour decimal(6,2),\n",
    "\tcrypto_currency_percentage_change_in_past_7_days decimal(6,2),\n",
    "\tcrypto_currency_percentage_change_in_past_30_days decimal(6,2),\n",
    "\tcrypto_currency_percentage_change_in_past_60_days decimal(6,2),\n",
    "\tcrypto_currency_percentage_change_in_past_90_days decimal(6,2),\n",
    "\tcrypto_currency_market_capital float,\n",
    "\tcrypto_currency_market_capital_dominance float,\n",
    "\tcrypto_currency_fully_diluted_market_capital float,\n",
    "\tcrypto_currency_last_updated date,\n",
    "\tcrypto_currency_platform_id varchar,\n",
    "\tcrypto_currency_platform_name varchar,\n",
    "\tcrypto_currency_platform_symbol varchar,\n",
    "\tcrypto_currency_platform_slug varchar,\n",
    "\tcrypto_currencyplatform_token_address varchar,\n",
    "\tcrypto_currency_timestamp_for_job_run date\t\n",
    ");\n",
    "'''"
   ]
  },
  {
   "cell_type": "markdown",
   "id": "9b3bdb12",
   "metadata": {},
   "source": [
    "The below block is for Storing the SQL query to create a Table called Crypto_Ethereum_Table in a variable Create_Crypto_Ethereum_Table"
   ]
  },
  {
   "cell_type": "code",
   "execution_count": 13,
   "id": "d194213b",
   "metadata": {},
   "outputs": [],
   "source": [
    "Create_Crypto_Ethereum_Table='''\n",
    "Create Table Crypto_Ethereum_Table(\n",
    "\tSerial_number varchar,\n",
    "\tcrypto_currency_id varchar ,\n",
    "\tcrypto_currency_name varchar ,\n",
    "\tcrypto_currency_symbol varchar ,\n",
    "\tcrypto_currency_slug varchar ,\n",
    "\tcrypto_currency_number_of_market_pairs integer,\n",
    "\tcrypto_currency_added_on_date date,\n",
    "\tcrypto_currency_tags varchar,\n",
    "\tcrypto_currency_maximum_supply_in_the_lifetime float,\n",
    "\tcrypto_currency_current_circulating_supply float,\n",
    "\tcrypto_currency_total_supply_right_now float,\n",
    "\tcrypto_currency_platform varchar,\n",
    "\tcrypto_currency_cmc_rank integer,\n",
    "\tcrypto_currency_self_reported_circulating_supply float,\n",
    "\tcrypto_currency_self_reported_market_capital float,\n",
    "\tcrypto_currency_last_updated_date date,\n",
    "\tcrypto_currency_value_in_US_dollars float,\n",
    "\tcrypto_currency_volume_in_the_past_24_hours float,\n",
    "\tcrypto_currency_volume_change_in_the_past_24_hours decimal(6,2),\n",
    "\tcrypto_currency_percentage_change_in_last_1_hour decimal(6,2),\n",
    "\tcrypto_currency_percentage_change_in_last_24_hour decimal(6,2),\n",
    "\tcrypto_currency_percentage_change_in_past_7_days decimal(6,2),\n",
    "\tcrypto_currency_percentage_change_in_past_30_days decimal(6,2),\n",
    "\tcrypto_currency_percentage_change_in_past_60_days decimal(6,2),\n",
    "\tcrypto_currency_percentage_change_in_past_90_days decimal(6,2),\n",
    "\tcrypto_currency_market_capital float,\n",
    "\tcrypto_currency_market_capital_dominance float,\n",
    "\tcrypto_currency_fully_diluted_market_capital float,\n",
    "\tcrypto_currency_last_updated date,\n",
    "\tcrypto_currency_platform_id varchar,\n",
    "\tcrypto_currency_platform_name varchar,\n",
    "\tcrypto_currency_platform_symbol varchar,\n",
    "\tcrypto_currency_platform_slug varchar,\n",
    "\tcrypto_currencyplatform_token_address varchar,\n",
    "\tcrypto_currency_timestamp_for_job_run date\t\n",
    ");\n",
    "'''"
   ]
  },
  {
   "cell_type": "markdown",
   "id": "2746a62c",
   "metadata": {},
   "source": [
    "the below block is for Storing the SQL query to create a Table called Crypto_Tether_Table in a variable Create_Crypto_Tether_Table"
   ]
  },
  {
   "cell_type": "code",
   "execution_count": 14,
   "id": "4f708bfc",
   "metadata": {},
   "outputs": [],
   "source": [
    "Create_Crypto_Tether_Table='''\n",
    "Create Table Crypto_Tether_Table(\n",
    "\tSerial_number varchar,\n",
    "\tcrypto_currency_id varchar ,\n",
    "\tcrypto_currency_name varchar ,\n",
    "\tcrypto_currency_symbol varchar ,\n",
    "\tcrypto_currency_slug varchar ,\n",
    "\tcrypto_currency_number_of_market_pairs integer,\n",
    "\tcrypto_currency_added_on_date date,\n",
    "\tcrypto_currency_tags varchar,\n",
    "\tcrypto_currency_maximum_supply_in_the_lifetime float,\n",
    "\tcrypto_currency_current_circulating_supply float,\n",
    "\tcrypto_currency_total_supply_right_now float,\n",
    "\tcrypto_currency_platform varchar,\n",
    "\tcrypto_currency_cmc_rank integer,\n",
    "\tcrypto_currency_self_reported_circulating_supply float,\n",
    "\tcrypto_currency_self_reported_market_capital float,\n",
    "\tcrypto_currency_last_updated_date date,\n",
    "\tcrypto_currency_value_in_US_dollars float,\n",
    "\tcrypto_currency_volume_in_the_past_24_hours float,\n",
    "\tcrypto_currency_volume_change_in_the_past_24_hours decimal(6,2),\n",
    "\tcrypto_currency_percentage_change_in_last_1_hour decimal(6,2),\n",
    "\tcrypto_currency_percentage_change_in_last_24_hour decimal(6,2),\n",
    "\tcrypto_currency_percentage_change_in_past_7_days decimal(6,2),\n",
    "\tcrypto_currency_percentage_change_in_past_30_days decimal(6,2),\n",
    "\tcrypto_currency_percentage_change_in_past_60_days decimal(6,2),\n",
    "\tcrypto_currency_percentage_change_in_past_90_days decimal(6,2),\n",
    "\tcrypto_currency_market_capital float,\n",
    "\tcrypto_currency_market_capital_dominance float,\n",
    "\tcrypto_currency_fully_diluted_market_capital float,\n",
    "\tcrypto_currency_last_updated date,\n",
    "\tcrypto_currency_platform_id varchar,\n",
    "\tcrypto_currency_platform_name varchar,\n",
    "\tcrypto_currency_platform_symbol varchar,\n",
    "\tcrypto_currency_platform_slug varchar,\n",
    "\tcrypto_currencyplatform_token_address varchar,\n",
    "\tcrypto_currency_timestamp_for_job_run date\t\n",
    ");\n",
    "'''"
   ]
  },
  {
   "cell_type": "markdown",
   "id": "cc1cc494",
   "metadata": {},
   "source": [
    "The below block is for Storing the SQL query to create a Table called Crypto_Solana_Table in a variable Create_Crypto_Solana_Table"
   ]
  },
  {
   "cell_type": "code",
   "execution_count": 15,
   "id": "7d85a26a",
   "metadata": {},
   "outputs": [],
   "source": [
    "Create_Crypto_Solana_Table='''\n",
    "Create Table Crypto_Solana_Table(\n",
    "\tSerial_number varchar,\n",
    "\tcrypto_currency_id varchar ,\n",
    "\tcrypto_currency_name varchar ,\n",
    "\tcrypto_currency_symbol varchar ,\n",
    "\tcrypto_currency_slug varchar ,\n",
    "\tcrypto_currency_number_of_market_pairs integer,\n",
    "\tcrypto_currency_added_on_date date,\n",
    "\tcrypto_currency_tags varchar,\n",
    "\tcrypto_currency_maximum_supply_in_the_lifetime float,\n",
    "\tcrypto_currency_current_circulating_supply float,\n",
    "\tcrypto_currency_total_supply_right_now float,\n",
    "\tcrypto_currency_platform varchar,\n",
    "\tcrypto_currency_cmc_rank integer,\n",
    "\tcrypto_currency_self_reported_circulating_supply float,\n",
    "\tcrypto_currency_self_reported_market_capital float,\n",
    "\tcrypto_currency_last_updated_date date,\n",
    "\tcrypto_currency_value_in_US_dollars float,\n",
    "\tcrypto_currency_volume_in_the_past_24_hours float,\n",
    "\tcrypto_currency_volume_change_in_the_past_24_hours decimal(6,2),\n",
    "\tcrypto_currency_percentage_change_in_last_1_hour decimal(6,2),\n",
    "\tcrypto_currency_percentage_change_in_last_24_hour decimal(6,2),\n",
    "\tcrypto_currency_percentage_change_in_past_7_days decimal(6,2),\n",
    "\tcrypto_currency_percentage_change_in_past_30_days decimal(6,2),\n",
    "\tcrypto_currency_percentage_change_in_past_60_days decimal(6,2),\n",
    "\tcrypto_currency_percentage_change_in_past_90_days decimal(6,2),\n",
    "\tcrypto_currency_market_capital float,\n",
    "\tcrypto_currency_market_capital_dominance float,\n",
    "\tcrypto_currency_fully_diluted_market_capital float,\n",
    "\tcrypto_currency_last_updated date,\n",
    "\tcrypto_currency_platform_id varchar,\n",
    "\tcrypto_currency_platform_name varchar,\n",
    "\tcrypto_currency_platform_symbol varchar,\n",
    "\tcrypto_currency_platform_slug varchar,\n",
    "\tcrypto_currencyplatform_token_address varchar,\n",
    "\tcrypto_currency_timestamp_for_job_run date\t\n",
    ");\n",
    "'''\n"
   ]
  },
  {
   "cell_type": "markdown",
   "id": "8e21f967",
   "metadata": {},
   "source": [
    "The below block is for Storing the SQL query to copy csv data from csv file located at C:\\Users\\Vimal\\Desktop\\Projects\\Crypto_API_CSV_files into Crypto_All_API_Data_Table in a variable Copy_from_csv_to_table"
   ]
  },
  {
   "cell_type": "code",
   "execution_count": 6,
   "id": "ce15e7e8",
   "metadata": {},
   "outputs": [],
   "source": [
    "Copy_from_csv_to_table=''' copy Crypto_All_API_Data_Table (\n",
    "Serial_number,\n",
    "crypto_currency_id, \n",
    "crypto_currency_name,\n",
    "crypto_currency_symbol,\n",
    "crypto_currency_slug,\n",
    "crypto_currency_number_of_market_pairs,\n",
    "crypto_currency_added_on_date,\n",
    "crypto_currency_tags,\n",
    "crypto_currency_maximum_supply_in_the_lifetime,\n",
    "crypto_currency_current_circulating_supply,\n",
    "crypto_currency_total_supply_right_now,\n",
    "crypto_currency_platform,\n",
    "crypto_currency_cmc_rank,\n",
    "crypto_currency_self_reported_circulating_supply,\n",
    "crypto_currency_self_reported_market_capital,\n",
    "crypto_currency_last_updated_date,\n",
    "crypto_currency_value_in_US_dollars,\n",
    "crypto_currency_volume_in_the_past_24_hours,\n",
    "crypto_currency_volume_change_in_the_past_24_hours,\n",
    "crypto_currency_percentage_change_in_last_1_hour,\n",
    "crypto_currency_percentage_change_in_last_24_hour,\n",
    "crypto_currency_percentage_change_in_past_7_days,\n",
    "crypto_currency_percentage_change_in_past_30_days,\n",
    "crypto_currency_percentage_change_in_past_60_days,\n",
    "crypto_currency_percentage_change_in_past_90_days,\n",
    "crypto_currency_market_capital,\n",
    "crypto_currency_market_capital_dominance,\n",
    "crypto_currency_fully_diluted_market_capital,\n",
    "crypto_currency_last_updated,\n",
    "crypto_currency_platform_id,\n",
    "crypto_currency_platform_name,\n",
    "crypto_currency_platform_symbol,\n",
    "crypto_currency_platform_slug,\n",
    "crypto_currencyplatform_token_address,\n",
    "crypto_currency_timestamp_for_job_run) FROM 'C:\\\\Users\\\\Vimal\\\\Desktop\\\\Projects\\\\Crypto_API_CSV_files\\\\Crypto_API.csv'\n",
    "DELIMITER ','\n",
    "CSV HEADER;\n",
    "'''"
   ]
  },
  {
   "cell_type": "code",
   "execution_count": 16,
   "id": "27d33dc7",
   "metadata": {},
   "outputs": [],
   "source": [
    "cur.execute(Create_Crypto_Solana_Table)"
   ]
  },
  {
   "cell_type": "code",
   "execution_count": 17,
   "id": "f73155d5",
   "metadata": {},
   "outputs": [],
   "source": [
    "cur.execute(Create_Crypto_Tether_Table)"
   ]
  },
  {
   "cell_type": "code",
   "execution_count": 18,
   "id": "ffeadc15",
   "metadata": {},
   "outputs": [],
   "source": [
    "cur.execute(Create_Crypto_Ethereum_Table)"
   ]
  },
  {
   "cell_type": "code",
   "execution_count": 19,
   "id": "a60ec00e",
   "metadata": {},
   "outputs": [],
   "source": [
    "cur.execute(Create_Crypto_Bitcoin_Table)"
   ]
  },
  {
   "cell_type": "code",
   "execution_count": 20,
   "id": "c52630ab",
   "metadata": {},
   "outputs": [],
   "source": [
    "cur.execute(Create_Crypto_Analytics_Table)"
   ]
  },
  {
   "cell_type": "code",
   "execution_count": 23,
   "id": "0313b709",
   "metadata": {},
   "outputs": [],
   "source": [
    "cur.execute(Copy_from_csv_to_table)"
   ]
  },
  {
   "cell_type": "markdown",
   "id": "645e2aad",
   "metadata": {},
   "source": [
    "Storing the SQL query to insert data into Crypto_Analytics_Table in a variable Insert_into_Crypto_Analytics_Table"
   ]
  },
  {
   "cell_type": "code",
   "execution_count": null,
   "id": "d52faa5e",
   "metadata": {},
   "outputs": [],
   "source": [
    "Insert_into_Crypto_Analytics_Table='''\n",
    "Insert into Crypto_Analytics_Table \n",
    "Select crypto_currency_id ,\n",
    "crypto_currency_name ,\n",
    "crypto_currency_symbol,\n",
    "crypto_currency_slug,\n",
    "crypto_currency_number_of_market_pairs,\n",
    "crypto_currency_added_on_date,\n",
    "crypto_currency_tags,\n",
    "crypto_currency_maximum_supply_in_the_lifetime,\n",
    "crypto_currency_current_circulating_supply,\n",
    "crypto_currency_total_supply_right_now,\n",
    "crypto_currency_cmc_rank,\n",
    "crypto_currency_self_reported_circulating_supply,\n",
    "crypto_currency_self_reported_market_capital,\n",
    "crypto_currency_last_updated_date,\n",
    "crypto_currency_value_in_US_dollars,\n",
    "crypto_currency_volume_in_the_past_24_hours ,\n",
    "crypto_currency_volume_change_in_the_past_24_hours ,\n",
    "crypto_currency_percentage_change_in_last_1_hour,\n",
    "crypto_currency_percentage_change_in_last_24_hour,\n",
    "crypto_currency_percentage_change_in_past_7_days,\n",
    "crypto_currency_percentage_change_in_past_30_days,\n",
    "crypto_currency_percentage_change_in_past_60_days,\n",
    "crypto_currency_percentage_change_in_past_90_days,\n",
    "crypto_currency_market_capital,\n",
    "crypto_currency_market_capital_dominance,\n",
    "crypto_currency_fully_diluted_market_capital,\n",
    "crypto_currency_last_updated,\n",
    "crypto_currency_timestamp_for_job_run from Crypto_All_API_Data_Table\t\n",
    "where 1=1\n",
    "'''"
   ]
  },
  {
   "cell_type": "code",
   "execution_count": 25,
   "id": "61b0679e",
   "metadata": {},
   "outputs": [],
   "source": [
    "cur.execute(Insert_into_Crypto_Analytics_Table)"
   ]
  },
  {
   "cell_type": "markdown",
   "id": "21502301",
   "metadata": {},
   "source": [
    "Storing the SQL query to insert data into crypto_bitcoin_table in a variable Insert_into_crypto_bitcoin_table"
   ]
  },
  {
   "cell_type": "code",
   "execution_count": 33,
   "id": "a07537c6",
   "metadata": {},
   "outputs": [],
   "source": [
    "Insert_into_crypto_bitcoin_table='''\n",
    "Insert into crypto_bitcoin_table \n",
    "Select Serial_number,\n",
    "crypto_currency_id, \n",
    "crypto_currency_name,\n",
    "crypto_currency_symbol,\n",
    "crypto_currency_slug,\n",
    "crypto_currency_number_of_market_pairs,\n",
    "crypto_currency_added_on_date,\n",
    "crypto_currency_tags,\n",
    "crypto_currency_maximum_supply_in_the_lifetime,\n",
    "crypto_currency_current_circulating_supply,\n",
    "crypto_currency_total_supply_right_now,\n",
    "crypto_currency_platform,\n",
    "crypto_currency_cmc_rank,\n",
    "crypto_currency_self_reported_circulating_supply,\n",
    "crypto_currency_self_reported_market_capital,\n",
    "crypto_currency_last_updated_date,\n",
    "crypto_currency_value_in_US_dollars,\n",
    "crypto_currency_volume_in_the_past_24_hours,\n",
    "crypto_currency_volume_change_in_the_past_24_hours,\n",
    "crypto_currency_percentage_change_in_last_1_hour,\n",
    "crypto_currency_percentage_change_in_last_24_hour,\n",
    "crypto_currency_percentage_change_in_past_7_days,\n",
    "crypto_currency_percentage_change_in_past_30_days,\n",
    "crypto_currency_percentage_change_in_past_60_days,\n",
    "crypto_currency_percentage_change_in_past_90_days,\n",
    "crypto_currency_market_capital,\n",
    "crypto_currency_market_capital_dominance,\n",
    "crypto_currency_fully_diluted_market_capital,\n",
    "crypto_currency_last_updated,\n",
    "crypto_currency_platform_id,\n",
    "crypto_currency_platform_name,\n",
    "crypto_currency_platform_symbol,\n",
    "crypto_currency_platform_slug,\n",
    "crypto_currencyplatform_token_address,\n",
    "crypto_currency_timestamp_for_job_run from Crypto_All_API_Data_Table\n",
    "where crypto_currency_id='1'\n",
    "'''\n"
   ]
  },
  {
   "cell_type": "code",
   "execution_count": 34,
   "id": "016a67a7",
   "metadata": {},
   "outputs": [],
   "source": [
    "cur.execute(Insert_into_crypto_bitcoin_table)"
   ]
  },
  {
   "cell_type": "markdown",
   "id": "efede729",
   "metadata": {},
   "source": [
    "Storing the SQL query to insert data into crypto_solana_table in a variable Insert_into_crypto_solana_table"
   ]
  },
  {
   "cell_type": "code",
   "execution_count": 39,
   "id": "a20b5b4d",
   "metadata": {},
   "outputs": [],
   "source": [
    "Insert_into_crypto_solana_table='''\n",
    "Insert into crypto_solana_table \n",
    "Select Serial_number,\n",
    "crypto_currency_id, \n",
    "crypto_currency_name,\n",
    "crypto_currency_symbol,\n",
    "crypto_currency_slug,\n",
    "crypto_currency_number_of_market_pairs,\n",
    "crypto_currency_added_on_date,\n",
    "crypto_currency_tags,\n",
    "crypto_currency_maximum_supply_in_the_lifetime,\n",
    "crypto_currency_current_circulating_supply,\n",
    "crypto_currency_total_supply_right_now,\n",
    "crypto_currency_platform,\n",
    "crypto_currency_cmc_rank,\n",
    "crypto_currency_self_reported_circulating_supply,\n",
    "crypto_currency_self_reported_market_capital,\n",
    "crypto_currency_last_updated_date,\n",
    "crypto_currency_value_in_US_dollars,\n",
    "crypto_currency_volume_in_the_past_24_hours,\n",
    "crypto_currency_volume_change_in_the_past_24_hours,\n",
    "crypto_currency_percentage_change_in_last_1_hour,\n",
    "crypto_currency_percentage_change_in_last_24_hour,\n",
    "crypto_currency_percentage_change_in_past_7_days,\n",
    "crypto_currency_percentage_change_in_past_30_days,\n",
    "crypto_currency_percentage_change_in_past_60_days,\n",
    "crypto_currency_percentage_change_in_past_90_days,\n",
    "crypto_currency_market_capital,\n",
    "crypto_currency_market_capital_dominance,\n",
    "crypto_currency_fully_diluted_market_capital,\n",
    "crypto_currency_last_updated,\n",
    "crypto_currency_platform_id,\n",
    "crypto_currency_platform_name,\n",
    "crypto_currency_platform_symbol,\n",
    "crypto_currency_platform_slug,\n",
    "crypto_currencyplatform_token_address,\n",
    "crypto_currency_timestamp_for_job_run from Crypto_All_API_Data_Table\n",
    "where crypto_currency_id='5426'\n",
    "'''\n",
    "\n"
   ]
  },
  {
   "cell_type": "markdown",
   "id": "276b27d0",
   "metadata": {},
   "source": [
    "Storing the SQL query to insert data into crypto_ethereum_table in a variable Insert_into_crypto_ethereum_table"
   ]
  },
  {
   "cell_type": "code",
   "execution_count": 40,
   "id": "0fb5015f",
   "metadata": {},
   "outputs": [],
   "source": [
    "Insert_into_crypto_ethereum_table='''\n",
    "Insert into crypto_ethereum_table \n",
    "Select Serial_number,\n",
    "crypto_currency_id, \n",
    "crypto_currency_name,\n",
    "crypto_currency_symbol,\n",
    "crypto_currency_slug,\n",
    "crypto_currency_number_of_market_pairs,\n",
    "crypto_currency_added_on_date,\n",
    "crypto_currency_tags,\n",
    "crypto_currency_maximum_supply_in_the_lifetime,\n",
    "crypto_currency_current_circulating_supply,\n",
    "crypto_currency_total_supply_right_now,\n",
    "crypto_currency_platform,\n",
    "crypto_currency_cmc_rank,\n",
    "crypto_currency_self_reported_circulating_supply,\n",
    "crypto_currency_self_reported_market_capital,\n",
    "crypto_currency_last_updated_date,\n",
    "crypto_currency_value_in_US_dollars,\n",
    "crypto_currency_volume_in_the_past_24_hours,\n",
    "crypto_currency_volume_change_in_the_past_24_hours,\n",
    "crypto_currency_percentage_change_in_last_1_hour,\n",
    "crypto_currency_percentage_change_in_last_24_hour,\n",
    "crypto_currency_percentage_change_in_past_7_days,\n",
    "crypto_currency_percentage_change_in_past_30_days,\n",
    "crypto_currency_percentage_change_in_past_60_days,\n",
    "crypto_currency_percentage_change_in_past_90_days,\n",
    "crypto_currency_market_capital,\n",
    "crypto_currency_market_capital_dominance,\n",
    "crypto_currency_fully_diluted_market_capital,\n",
    "crypto_currency_last_updated,\n",
    "crypto_currency_platform_id,\n",
    "crypto_currency_platform_name,\n",
    "crypto_currency_platform_symbol,\n",
    "crypto_currency_platform_slug,\n",
    "crypto_currencyplatform_token_address,\n",
    "crypto_currency_timestamp_for_job_run from Crypto_All_API_Data_Table\n",
    "where crypto_currency_id='1027'\n",
    "'''\n"
   ]
  },
  {
   "cell_type": "markdown",
   "id": "c3231f60",
   "metadata": {},
   "source": [
    "Storing the SQL query to insert data into crypto_tether_table in a variable Insert_into_crypto_tether_table"
   ]
  },
  {
   "cell_type": "code",
   "execution_count": 41,
   "id": "20d3eded",
   "metadata": {},
   "outputs": [],
   "source": [
    "Insert_into_crypto_tether_table='''\n",
    "Insert into crypto_tether_table \n",
    "Select Serial_number,\n",
    "crypto_currency_id, \n",
    "crypto_currency_name,\n",
    "crypto_currency_symbol,\n",
    "crypto_currency_slug,\n",
    "crypto_currency_number_of_market_pairs,\n",
    "crypto_currency_added_on_date,\n",
    "crypto_currency_tags,\n",
    "crypto_currency_maximum_supply_in_the_lifetime,\n",
    "crypto_currency_current_circulating_supply,\n",
    "crypto_currency_total_supply_right_now,\n",
    "crypto_currency_platform,\n",
    "crypto_currency_cmc_rank,\n",
    "crypto_currency_self_reported_circulating_supply,\n",
    "crypto_currency_self_reported_market_capital,\n",
    "crypto_currency_last_updated_date,\n",
    "crypto_currency_value_in_US_dollars,\n",
    "crypto_currency_volume_in_the_past_24_hours,\n",
    "crypto_currency_volume_change_in_the_past_24_hours,\n",
    "crypto_currency_percentage_change_in_last_1_hour,\n",
    "crypto_currency_percentage_change_in_last_24_hour,\n",
    "crypto_currency_percentage_change_in_past_7_days,\n",
    "crypto_currency_percentage_change_in_past_30_days,\n",
    "crypto_currency_percentage_change_in_past_60_days,\n",
    "crypto_currency_percentage_change_in_past_90_days,\n",
    "crypto_currency_market_capital,\n",
    "crypto_currency_market_capital_dominance,\n",
    "crypto_currency_fully_diluted_market_capital,\n",
    "crypto_currency_last_updated,\n",
    "crypto_currency_platform_id,\n",
    "crypto_currency_platform_name,\n",
    "crypto_currency_platform_symbol,\n",
    "crypto_currency_platform_slug,\n",
    "crypto_currencyplatform_token_address,\n",
    "crypto_currency_timestamp_for_job_run from Crypto_All_API_Data_Table\n",
    "where crypto_currency_id='825'\n",
    "'''\n"
   ]
  },
  {
   "cell_type": "code",
   "execution_count": 42,
   "id": "9ad339ea",
   "metadata": {},
   "outputs": [],
   "source": [
    "cur.execute(Insert_into_crypto_solana_table)"
   ]
  },
  {
   "cell_type": "code",
   "execution_count": 43,
   "id": "a49675c8",
   "metadata": {},
   "outputs": [],
   "source": [
    "cur.execute(Insert_into_crypto_tether_table)"
   ]
  },
  {
   "cell_type": "code",
   "execution_count": 44,
   "id": "85f24dbd",
   "metadata": {},
   "outputs": [],
   "source": [
    "cur.execute(Insert_into_crypto_ethereum_table)"
   ]
  },
  {
   "cell_type": "code",
   "execution_count": null,
   "id": "c6362c85",
   "metadata": {},
   "outputs": [],
   "source": []
  }
 ],
 "metadata": {
  "kernelspec": {
   "display_name": "Python 3 (ipykernel)",
   "language": "python",
   "name": "python3"
  },
  "language_info": {
   "codemirror_mode": {
    "name": "ipython",
    "version": 3
   },
   "file_extension": ".py",
   "mimetype": "text/x-python",
   "name": "python",
   "nbconvert_exporter": "python",
   "pygments_lexer": "ipython3",
   "version": "3.10.4"
  }
 },
 "nbformat": 4,
 "nbformat_minor": 5
}
